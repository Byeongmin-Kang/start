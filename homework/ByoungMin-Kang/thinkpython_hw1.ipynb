{
 "cells": [
  {
   "cell_type": "code",
   "execution_count": null,
   "metadata": {
    "collapsed": true
   },
   "outputs": [],
   "source": [
    "###Ex2.1"
   ]
  },
  {
   "cell_type": "code",
   "execution_count": 11,
   "metadata": {
    "collapsed": false
   },
   "outputs": [
    {
     "name": "stdout",
     "output_type": "stream",
     "text": [
      "5\n",
      "5\n",
      "6\n",
      "8\n",
      "9\n"
     ]
    }
   ],
   "source": [
    "print(5)\n",
    "x=5\n",
    "print(x)\n",
    "print(x+1)\n",
    "y=8\n",
    "print(y)\n",
    "print(y+1)"
   ]
  },
  {
   "cell_type": "code",
   "execution_count": null,
   "metadata": {
    "collapsed": true
   },
   "outputs": [],
   "source": [
    "###Ex2.2"
   ]
  },
  {
   "cell_type": "code",
   "execution_count": 12,
   "metadata": {
    "collapsed": false
   },
   "outputs": [
    {
     "name": "stdout",
     "output_type": "stream",
     "text": [
      "8.5\n",
      "8.5\n",
      "4.0\n",
      "11\n",
      ".....\n"
     ]
    }
   ],
   "source": [
    "width=17\n",
    "height=12.0\n",
    "delimiter='.'\n",
    "print(width/2)\n",
    "print(width/2.0)\n",
    "print(height/3)\n",
    "print(1+2*5)\n",
    "print(delimiter*5)"
   ]
  },
  {
   "cell_type": "code",
   "execution_count": null,
   "metadata": {
    "collapsed": true
   },
   "outputs": [],
   "source": [
    "###Ex2.3"
   ]
  },
  {
   "cell_type": "code",
   "execution_count": 18,
   "metadata": {
    "collapsed": false
   },
   "outputs": [
    {
     "name": "stdout",
     "output_type": "stream",
     "text": [
      "1\n",
      "523.3333333333334\n",
      "2\n",
      "47.25\n",
      "62.22\n"
     ]
    }
   ],
   "source": [
    "print((1))\n",
    "r=5\n",
    "volume = 4/3*3.14*r**3\n",
    "print(volume)\n",
    "print((2))\n",
    "bookprice=24.95\n",
    "discount=0.40\n",
    "copy=60\n",
    "shippingcost=3+0.75*(60-1)\n",
    "print(shippingcost)\n",
    "Totalcost=bookprice*(1-discount)+shippingcost\n",
    "print(Totalcost)"
   ]
  },
  {
   "cell_type": "code",
   "execution_count": 10,
   "metadata": {
    "collapsed": false
   },
   "outputs": [],
   "source": [
    "###Ex3.3"
   ]
  },
  {
   "cell_type": "code",
   "execution_count": 9,
   "metadata": {
    "collapsed": false,
    "scrolled": true
   },
   "outputs": [
    {
     "name": "stdout",
     "output_type": "stream",
     "text": [
      "                                                             aaaaaaaaaa\n",
      "                                                            aaaaaaaaaaa\n",
      "                                                           aaaaaaaaaaaa\n",
      "                                                          aaaaaaaaaaaaa\n",
      "                                                         aaaaaaaaaaaaaa\n",
      "                                                        aaaaaaaaaaaaaaa\n",
      "                                                       aaaaaaaaaaaaaaaa\n",
      "                                                      aaaaaaaaaaaaaaaaa\n",
      "                                                     aaaaaaaaaaaaaaaaaa\n",
      "                                                    aaaaaaaaaaaaaaaaaaa\n",
      "                                                   aaaaaaaaaaaaaaaaaaaa\n",
      "                                                  aaaaaaaaaaaaaaaaaaaaa\n",
      "                                                 aaaaaaaaaaaaaaaaaaaaaa\n",
      "                                                aaaaaaaaaaaaaaaaaaaaaaa\n",
      "                                               aaaaaaaaaaaaaaaaaaaaaaaa\n",
      "                                              aaaaaaaaaaaaaaaaaaaaaaaaa\n",
      "                                             aaaaaaaaaaaaaaaaaaaaaaaaaa\n",
      "                                            aaaaaaaaaaaaaaaaaaaaaaaaaaa\n",
      "                                           aaaaaaaaaaaaaaaaaaaaaaaaaaaa\n",
      "                                          aaaaaaaaaaaaaaaaaaaaaaaaaaaaa\n"
     ]
    }
   ],
   "source": [
    "def right_justify(s):\n",
    "    print(' ' * (70 - len(s)), s)\n",
    "\n",
    "for i in range(10, 30):\n",
    "    right_justify('a' * i)"
   ]
  },
  {
   "cell_type": "code",
   "execution_count": null,
   "metadata": {
    "collapsed": true
   },
   "outputs": [],
   "source": [
    "###Ex3.5"
   ]
  },
  {
   "cell_type": "code",
   "execution_count": 2,
   "metadata": {
    "collapsed": false
   },
   "outputs": [
    {
     "name": "stdout",
     "output_type": "stream",
     "text": [
      "+ - - - - + - - - - +\n",
      "I         I         I\n",
      "I         I         I\n",
      "I         I         I\n",
      "I         I         I\n",
      "+ - - - - + - - - - +\n",
      "I         I         I\n",
      "I         I         I\n",
      "I         I         I\n",
      "I         I         I\n",
      "+ - - - - + - - - - +\n"
     ]
    }
   ],
   "source": [
    "def do_twice(f):\n",
    "\n",
    "    f()\n",
    "\n",
    "    f()\n",
    "\n",
    "\n",
    "def do_four(g):\n",
    "\n",
    "    do_twice(g)\n",
    "\n",
    "    do_twice(g)\n",
    "\n",
    "def print_width():\n",
    "\n",
    "    print(\"+ - - - - + - - - - +\")\n",
    "\n",
    "def print_coulmn():\n",
    "\n",
    "    print(\"I         I         I\")\n",
    "\n",
    "print_width()\n",
    "\n",
    "do_four(print_coulmn)\n",
    "\n",
    "print_width()\n",
    "\n",
    "do_four(print_coulmn)\n",
    "\n",
    "print_width()"
   ]
  }
 ],
 "metadata": {
  "celltoolbar": "Raw Cell Format",
  "kernelspec": {
   "display_name": "Python 3",
   "language": "python",
   "name": "python3"
  },
  "language_info": {
   "codemirror_mode": {
    "name": "ipython",
    "version": 3
   },
   "file_extension": ".py",
   "mimetype": "text/x-python",
   "name": "python",
   "nbconvert_exporter": "python",
   "pygments_lexer": "ipython3",
   "version": "3.5.1"
  },
  "widgets": {
   "state": {},
   "version": "1.1.2"
  }
 },
 "nbformat": 4,
 "nbformat_minor": 0
}
