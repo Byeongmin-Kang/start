{
 "cells": [
  {
   "cell_type": "markdown",
   "metadata": {},
   "source": [
    "##Exercises 5.1"
   ]
  },
  {
   "cell_type": "code",
   "execution_count": 1,
   "metadata": {
    "collapsed": false
   },
   "outputs": [
    {
     "name": "stdout",
     "output_type": "stream",
     "text": [
      "n을 입력해주세요.123\n",
      "123 : Hello\n",
      "122 : Hello\n",
      "121 : Hello\n",
      "120 : Hello\n",
      "119 : Hello\n",
      "118 : Hello\n",
      "117 : Hello\n",
      "116 : Hello\n",
      "115 : Hello\n",
      "114 : Hello\n",
      "113 : Hello\n",
      "112 : Hello\n",
      "111 : Hello\n",
      "110 : Hello\n",
      "109 : Hello\n",
      "108 : Hello\n",
      "107 : Hello\n",
      "106 : Hello\n",
      "105 : Hello\n",
      "104 : Hello\n",
      "103 : Hello\n",
      "102 : Hello\n",
      "101 : Hello\n",
      "100 : Hello\n",
      "99 : Hello\n",
      "98 : Hello\n",
      "97 : Hello\n",
      "96 : Hello\n",
      "95 : Hello\n",
      "94 : Hello\n",
      "93 : Hello\n",
      "92 : Hello\n",
      "91 : Hello\n",
      "90 : Hello\n",
      "89 : Hello\n",
      "88 : Hello\n",
      "87 : Hello\n",
      "86 : Hello\n",
      "85 : Hello\n",
      "84 : Hello\n",
      "83 : Hello\n",
      "82 : Hello\n",
      "81 : Hello\n",
      "80 : Hello\n",
      "79 : Hello\n",
      "78 : Hello\n",
      "77 : Hello\n",
      "76 : Hello\n",
      "75 : Hello\n",
      "74 : Hello\n",
      "73 : Hello\n",
      "72 : Hello\n",
      "71 : Hello\n",
      "70 : Hello\n",
      "69 : Hello\n",
      "68 : Hello\n",
      "67 : Hello\n",
      "66 : Hello\n",
      "65 : Hello\n",
      "64 : Hello\n",
      "63 : Hello\n",
      "62 : Hello\n",
      "61 : Hello\n",
      "60 : Hello\n",
      "59 : Hello\n",
      "58 : Hello\n",
      "57 : Hello\n",
      "56 : Hello\n",
      "55 : Hello\n",
      "54 : Hello\n",
      "53 : Hello\n",
      "52 : Hello\n",
      "51 : Hello\n",
      "50 : Hello\n",
      "49 : Hello\n",
      "48 : Hello\n",
      "47 : Hello\n",
      "46 : Hello\n",
      "45 : Hello\n",
      "44 : Hello\n",
      "43 : Hello\n",
      "42 : Hello\n",
      "41 : Hello\n",
      "40 : Hello\n",
      "39 : Hello\n",
      "38 : Hello\n",
      "37 : Hello\n",
      "36 : Hello\n",
      "35 : Hello\n",
      "34 : Hello\n",
      "33 : Hello\n",
      "32 : Hello\n",
      "31 : Hello\n",
      "30 : Hello\n",
      "29 : Hello\n",
      "28 : Hello\n",
      "27 : Hello\n",
      "26 : Hello\n",
      "25 : Hello\n",
      "24 : Hello\n",
      "23 : Hello\n",
      "22 : Hello\n",
      "21 : Hello\n",
      "20 : Hello\n",
      "19 : Hello\n",
      "18 : Hello\n",
      "17 : Hello\n",
      "16 : Hello\n",
      "15 : Hello\n",
      "14 : Hello\n",
      "13 : Hello\n",
      "12 : Hello\n",
      "11 : Hello\n",
      "10 : Hello\n",
      "9 : Hello\n",
      "8 : Hello\n",
      "7 : Hello\n",
      "6 : Hello\n",
      "5 : Hello\n",
      "4 : Hello\n",
      "3 : Hello\n",
      "2 : Hello\n",
      "1 : Hello\n",
      "Good Bye\n"
     ]
    }
   ],
   "source": [
    "def print_n(n):\n",
    "    if n<=0:\n",
    "        print(\"Good Bye\")\n",
    "    else:\n",
    "        print(n,\": Hello\")\n",
    "        print_n(n-1);\n",
    "n= int(input(\"n을 입력해주세요.\"))\n",
    "print_n(n)"
   ]
  },
  {
   "cell_type": "markdown",
   "metadata": {},
   "source": [
    "##Exercises 5.3"
   ]
  },
  {
   "cell_type": "code",
   "execution_count": 2,
   "metadata": {
    "collapsed": false
   },
   "outputs": [
    {
     "name": "stdout",
     "output_type": "stream",
     "text": [
      "a를 입력해주세요123456\n",
      "b를 입력해주세요1\n",
      "c를 입력해주세요5\n",
      "n를 입력해주세요9\n",
      "check_fermat( 123456 , 1 , 5 n )=\n",
      "No, that doesn't work.\n"
     ]
    }
   ],
   "source": [
    "def check_fermat(a,b,c,n):\n",
    "    if a**n+b**n==c**n :\n",
    "        print(\"Holy smokes, Fermat was wrong!\")\n",
    "    else:\n",
    "        print(\"No, that doesn't work.\")\n",
    "\n",
    "a= int(input(\"a를 입력해주세요\"));\n",
    "b= int(input(\"b를 입력해주세요\"));\n",
    "c= int(input(\"c를 입력해주세요\"));\n",
    "n= int(input(\"n를 입력해주세요\"));\n",
    "print(\"check_fermat(\",a,\",\",b,\",\",c,\"n\",\")=\"); check_fermat(a, b, c,n);"
   ]
  },
  {
   "cell_type": "code",
   "execution_count": null,
   "metadata": {
    "collapsed": true
   },
   "outputs": [],
   "source": []
  }
 ],
 "metadata": {
  "kernelspec": {
   "display_name": "Python 3",
   "language": "python",
   "name": "python3"
  },
  "language_info": {
   "codemirror_mode": {
    "name": "ipython",
    "version": 3
   },
   "file_extension": ".py",
   "mimetype": "text/x-python",
   "name": "python",
   "nbconvert_exporter": "python",
   "pygments_lexer": "ipython3",
   "version": "3.5.1"
  },
  "widgets": {
   "state": {},
   "version": "1.1.2"
  }
 },
 "nbformat": 4,
 "nbformat_minor": 0
}
