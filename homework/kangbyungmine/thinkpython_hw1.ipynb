{
 "cells": [
  {
   "cell_type": "markdown",
   "metadata": {},
   "source": [
    "### Ex. 2.3\n",
    "* 이것은 숙제를 하는 것입니다.\n",
    "    * Python IDLE에서 아래 각각의 코드를 입력하고 return 키를 누르세요"
   ]
  },
  {
   "cell_type": "code",
   "execution_count": 1,
   "metadata": {
    "collapsed": true
   },
   "outputs": [],
   "source": [
    "r = 5"
   ]
  },
  {
   "cell_type": "code",
   "execution_count": 2,
   "metadata": {
    "collapsed": true
   },
   "outputs": [],
   "source": [
    "pi = 3.14"
   ]
  },
  {
   "cell_type": "markdown",
   "metadata": {},
   "source": [
    "연산자는 다음과 같이 쓸 수 있습니다."
   ]
  },
  {
   "cell_type": "code",
   "execution_count": 3,
   "metadata": {
    "collapsed": false
   },
   "outputs": [
    {
     "data": {
      "text/plain": [
       "523.3333333333334"
      ]
     },
     "execution_count": 3,
     "metadata": {},
     "output_type": "execute_result"
    }
   ],
   "source": [
    "4/3 * pi * r**3"
   ]
  },
  {
   "cell_type": "code",
   "execution_count": 7,
   "metadata": {
    "collapsed": false
   },
   "outputs": [
    {
     "name": "stdout",
     "output_type": "stream",
     "text": [
      "                                                             aaaaaaaaaa\n",
      "                                                            aaaaaaaaaaa\n",
      "                                                           aaaaaaaaaaaa\n",
      "                                                          aaaaaaaaaaaaa\n",
      "                                                         aaaaaaaaaaaaaa\n",
      "                                                        aaaaaaaaaaaaaaa\n",
      "                                                       aaaaaaaaaaaaaaaa\n",
      "                                                      aaaaaaaaaaaaaaaaa\n",
      "                                                     aaaaaaaaaaaaaaaaaa\n",
      "                                                    aaaaaaaaaaaaaaaaaaa\n",
      "                                                   aaaaaaaaaaaaaaaaaaaa\n",
      "                                                  aaaaaaaaaaaaaaaaaaaaa\n",
      "                                                 aaaaaaaaaaaaaaaaaaaaaa\n",
      "                                                aaaaaaaaaaaaaaaaaaaaaaa\n",
      "                                               aaaaaaaaaaaaaaaaaaaaaaaa\n",
      "                                              aaaaaaaaaaaaaaaaaaaaaaaaa\n",
      "                                             aaaaaaaaaaaaaaaaaaaaaaaaaa\n",
      "                                            aaaaaaaaaaaaaaaaaaaaaaaaaaa\n",
      "                                           aaaaaaaaaaaaaaaaaaaaaaaaaaaa\n",
      "                                          aaaaaaaaaaaaaaaaaaaaaaaaaaaaa\n"
     ]
    }
   ],
   "source": [
    "def right_justify(s):\n",
    "    print(' ' * (70 - len(s)), s)\n",
    "\n",
    "for i in range(10, 30):\n",
    "    right_justify('a' * i)"
   ]
  }
 ],
 "metadata": {
  "kernelspec": {
   "display_name": "Python 3",
   "language": "python",
   "name": "python3"
  },
  "language_info": {
   "codemirror_mode": {
    "name": "ipython",
    "version": 3
   },
   "file_extension": ".py",
   "mimetype": "text/x-python",
   "name": "python",
   "nbconvert_exporter": "python",
   "pygments_lexer": "ipython3",
   "version": "3.5.1"
  },
  "widgets": {
   "state": {},
   "version": "1.1.2"
  }
 },
 "nbformat": 4,
 "nbformat_minor": 0
}
